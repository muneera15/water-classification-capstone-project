{
  "cells": [
    {
      "cell_type": "markdown",
      "metadata": {
        "colab_type": "text",
        "id": "view-in-github"
      },
      "source": [
        "<a href=\"https://colab.research.google.com/github/annsam0115/CIND820/blob/main/CIND820_CapstoneProject_ASAM.ipynb\" target=\"_parent\"><img src=\"https://colab.research.google.com/assets/colab-badge.svg\" alt=\"Open In Colab\"/></a>"
      ]
    },
    {
      "cell_type": "markdown",
      "metadata": {
        "id": "wY5HXnWdIFmO"
      },
      "source": [
        "#Libraries:"
      ]
    },
    {
      "cell_type": "code",
      "execution_count": 3,
      "metadata": {
        "id": "cYRoJa3I2lzp"
      },
      "outputs": [],
      "source": [
        "import pandas as pd \n",
        "import numpy as np \n",
        "import plotly\n",
        "import matplotlib.pyplot as plt \n",
        "import seaborn as sns \n",
        "\n",
        "import missingno as msno\n",
        "import warnings\n",
        "warnings.filterwarnings(\"ignore\")"
      ]
    },
    {
      "cell_type": "markdown",
      "metadata": {
        "id": "VsYaqOpuBn20"
      },
      "source": [
        "#Data Preparation:"
      ]
    },
    {
      "cell_type": "code",
      "execution_count": 4,
      "metadata": {
        "colab": {
          "base_uri": "https://localhost:8080/",
          "height": 74,
          "resources": {
            "http://localhost:8080/nbextensions/google.colab/files.js": {
              "data": "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",
              "headers": [
                [
                  "content-type",
                  "application/javascript"
                ]
              ],
              "ok": true,
              "status": 200,
              "status_text": ""
            }
          }
        },
        "id": "EDjrJMox6642",
        "outputId": "90609423-d0c9-4368-b726-95558da65bc1"
      },
      "outputs": [
        {
          "ename": "ModuleNotFoundError",
          "evalue": "No module named 'google'",
          "output_type": "error",
          "traceback": [
            "\u001b[1;31m---------------------------------------------------------------------------\u001b[0m",
            "\u001b[1;31mModuleNotFoundError\u001b[0m                       Traceback (most recent call last)",
            "Cell \u001b[1;32mIn[4], line 1\u001b[0m\n\u001b[1;32m----> 1\u001b[0m \u001b[39mfrom\u001b[39;00m \u001b[39mgoogle\u001b[39;00m\u001b[39m.\u001b[39;00m\u001b[39mcolab\u001b[39;00m \u001b[39mimport\u001b[39;00m files\n\u001b[0;32m      2\u001b[0m uploaded \u001b[39m=\u001b[39m files\u001b[39m.\u001b[39mupload()\n",
            "\u001b[1;31mModuleNotFoundError\u001b[0m: No module named 'google'"
          ]
        }
      ],
      "source": [
        "from google.colab import files\n",
        "uploaded = files.upload()"
      ]
    },
    {
      "cell_type": "code",
      "execution_count": null,
      "metadata": {},
      "outputs": [],
      "source": []
    },
    {
      "cell_type": "code",
      "execution_count": null,
      "metadata": {
        "colab": {
          "base_uri": "https://localhost:8080/",
          "height": 270
        },
        "id": "WGSHmVNi7Dqg",
        "outputId": "1959f138-4846-44ce-845d-e12230968128"
      },
      "outputs": [],
      "source": [
        "data = pd.read_csv(\"water_potability.csv\")\n",
        "df = pd.DataFrame(data)\n",
        "df.head()"
      ]
    },
    {
      "cell_type": "code",
      "execution_count": null,
      "metadata": {
        "colab": {
          "base_uri": "https://localhost:8080/",
          "height": 364
        },
        "id": "0WrlZzn_71XF",
        "outputId": "6998077d-2f96-4f01-dd05-4cee8265bd11"
      },
      "outputs": [],
      "source": [
        "df.describe()"
      ]
    },
    {
      "cell_type": "code",
      "execution_count": null,
      "metadata": {
        "colab": {
          "base_uri": "https://localhost:8080/"
        },
        "id": "SjxAj1uM2aXL",
        "outputId": "e791ece2-1a52-4b91-fae1-b84d16b7d1b2"
      },
      "outputs": [],
      "source": [
        "df.shape"
      ]
    },
    {
      "cell_type": "code",
      "execution_count": null,
      "metadata": {
        "colab": {
          "base_uri": "https://localhost:8080/"
        },
        "id": "JcXj_qVJ7yC_",
        "outputId": "ef6d2e0f-9c1c-4311-e035-29c8a1454638"
      },
      "outputs": [],
      "source": [
        "df.info()"
      ]
    },
    {
      "cell_type": "code",
      "execution_count": null,
      "metadata": {
        "colab": {
          "base_uri": "https://localhost:8080/"
        },
        "id": "WRYdfwycx8Gw",
        "outputId": "6779d0fd-935e-4f9f-cd83-0de768ffd864"
      },
      "outputs": [],
      "source": [
        "df.nunique()"
      ]
    },
    {
      "cell_type": "code",
      "execution_count": null,
      "metadata": {
        "colab": {
          "base_uri": "https://localhost:8080/"
        },
        "id": "VF6FWxNY2pmr",
        "outputId": "2e1ef0a3-5e5e-4646-b99e-dd801a1192b6"
      },
      "outputs": [],
      "source": [
        "df['Potability'].value_counts()"
      ]
    },
    {
      "cell_type": "markdown",
      "metadata": {
        "id": "P48fYmB61Acy"
      },
      "source": [
        "There is an imbalance of data for the target variable. Non poptable samples have been oversampled versus the potatble samples."
      ]
    },
    {
      "cell_type": "code",
      "execution_count": null,
      "metadata": {
        "colab": {
          "base_uri": "https://localhost:8080/",
          "height": 297
        },
        "id": "fIiQKjq5FTlc",
        "outputId": "0ecb2465-3408-4c98-bb4e-0a37ada2aa36"
      },
      "outputs": [],
      "source": [
        "sns.countplot(data = df, x = 'Potability')"
      ]
    },
    {
      "cell_type": "code",
      "execution_count": null,
      "metadata": {
        "colab": {
          "base_uri": "https://localhost:8080/",
          "height": 266
        },
        "id": "Hrm_sqw1pCQb",
        "outputId": "8580f01e-cb27-4446-8c10-35a02d243a8c"
      },
      "outputs": [],
      "source": [
        "df.Potability.value_counts().plot(kind ='pie')"
      ]
    },
    {
      "cell_type": "code",
      "execution_count": null,
      "metadata": {
        "colab": {
          "base_uri": "https://localhost:8080/",
          "height": 963
        },
        "id": "0ND3jzji2zfm",
        "outputId": "29b49d6d-fdf5-4d1c-e180-e593a3e2030e"
      },
      "outputs": [],
      "source": [
        "non_potable = df[df['Potability'] == 0]\n",
        "potable = df[df['Potability'] == 1]\n",
        "\n",
        "plt.figure(figsize=(13,13))\n",
        "\n",
        "for ax,col in enumerate(df.columns[:9]):\n",
        "    plt.subplot(3,3,ax+1)\n",
        "    plt.title(col)\n",
        "    sns.kdeplot(x=non_potable[col],label = \"Non Potable\")\n",
        "    sns.kdeplot(x=potable[col],label = \"Potable\")\n",
        "    plt.legend()\n",
        "\n",
        "plt.suptitle('Water Quality Distribution',y=1.01, size = 16, color = 'black', weight='bold')   \n",
        "plt.tight_layout()"
      ]
    },
    {
      "cell_type": "code",
      "execution_count": null,
      "metadata": {
        "colab": {
          "base_uri": "https://localhost:8080/"
        },
        "id": "MGcdtAGS2vV5",
        "outputId": "3a97d203-7642-406a-934e-66ce488068d6"
      },
      "outputs": [],
      "source": [
        "df.drop('Potability', axis=1).skew()"
      ]
    },
    {
      "cell_type": "markdown",
      "metadata": {
        "id": "e2j8Wc0J3Rvm"
      },
      "source": [
        "Distirbution of the data is mostly Gaussian."
      ]
    },
    {
      "cell_type": "code",
      "execution_count": null,
      "metadata": {
        "colab": {
          "base_uri": "https://localhost:8080/",
          "height": 427
        },
        "id": "2keyGyAm25ix",
        "outputId": "a326500d-cf43-4911-de31-5aeff0194ffe"
      },
      "outputs": [],
      "source": [
        "df.corr()"
      ]
    },
    {
      "cell_type": "code",
      "execution_count": null,
      "metadata": {
        "colab": {
          "base_uri": "https://localhost:8080/",
          "height": 711
        },
        "id": "5NjeSuUFfSUd",
        "outputId": "a73330b3-dca4-4292-9fd5-e5fa4eb073d0"
      },
      "outputs": [],
      "source": [
        "plt.figure(figsize = (12,10))\n",
        "cmap = sns.diverging_palette(250, 30, l=65, center=\"dark\", as_cmap=True)\n",
        "sns.heatmap(df.corr(), annot = True, cmap=cmap)\n",
        "plt.suptitle('Water Quality Heat Map', y = 0.92, size = 16, color = 'black', weight='bold')"
      ]
    },
    {
      "cell_type": "code",
      "execution_count": null,
      "metadata": {
        "colab": {
          "base_uri": "https://localhost:8080/"
        },
        "id": "NNJQd7hRY6pE",
        "outputId": "d64b7c52-881e-49d8-80a6-ae03d8fc0c01"
      },
      "outputs": [],
      "source": [
        "df.corr().abs()['Potability'].sort_values(ascending = False)"
      ]
    },
    {
      "cell_type": "code",
      "execution_count": null,
      "metadata": {
        "colab": {
          "base_uri": "https://localhost:8080/",
          "height": 984
        },
        "id": "kGXJdD_x4LfN",
        "outputId": "641750b5-af2f-4e43-bae4-f6d894400c8c"
      },
      "outputs": [],
      "source": [
        "ax = sns.pairplot(df, hue = \"Potability\", diag_kind = \"kde\", kind = \"scatter\")\n",
        "ax.fig.set_size_inches(16,16)\n",
        "ax.fig.suptitle('Water Quality Pair-Plot',y=1.01, size = 16, color = 'black', weight='bold')"
      ]
    },
    {
      "cell_type": "markdown",
      "metadata": {
        "id": "63hLGl051see"
      },
      "source": [
        "Both the correlation heatmap and pairplots between the variables show that there are no clear linear relationships between the features and the target variable. We can rule out using a simple linear model."
      ]
    },
    {
      "cell_type": "code",
      "execution_count": null,
      "metadata": {
        "colab": {
          "base_uri": "https://localhost:8080/",
          "height": 354
        },
        "id": "dJd1aAzy2J3f",
        "outputId": "49598cb6-09ba-4cad-f2aa-f028284b883e"
      },
      "outputs": [],
      "source": [
        "fig, ax = plt.subplots(ncols=5, nrows=2, figsize=(30,10))\n",
        "index = 0\n",
        "ax = ax.flatten()\n",
        "\n",
        "for attributeCol, value in df.items():\n",
        "    sns.boxplot(y=attributeCol, data=df, ax=ax[index], color=\"#cf7849\")\n",
        "    index += 1\n",
        "plt.tight_layout(pad=1.5, w_pad=1.5, h_pad=5.0)\n",
        "\n",
        "plt.suptitle('Water Quality Box-Plot',y=1.01, size = 16, color = 'black', weight='bold')"
      ]
    },
    {
      "cell_type": "markdown",
      "metadata": {
        "id": "6tXKW7FY2cBs"
      },
      "source": [
        "There are outliers within every feature of the dataset."
      ]
    },
    {
      "cell_type": "markdown",
      "metadata": {
        "id": "1A4jbi4yupEx"
      },
      "source": [
        "#Dealing with Missing Values"
      ]
    },
    {
      "cell_type": "code",
      "execution_count": null,
      "metadata": {
        "colab": {
          "base_uri": "https://localhost:8080/"
        },
        "id": "Rht0fwmmyacn",
        "outputId": "105782ec-0c5c-4183-bfb3-e0cee41ac030"
      },
      "outputs": [],
      "source": [
        "df.isna().any().any()"
      ]
    },
    {
      "cell_type": "code",
      "execution_count": null,
      "metadata": {
        "colab": {
          "base_uri": "https://localhost:8080/"
        },
        "id": "TReERkMYeIH0",
        "outputId": "c4f20d0a-8148-4a50-c641-bb04ea38b00d"
      },
      "outputs": [],
      "source": [
        "df.isnull().sum()"
      ]
    },
    {
      "cell_type": "code",
      "execution_count": null,
      "metadata": {
        "colab": {
          "base_uri": "https://localhost:8080/",
          "height": 477
        },
        "id": "IYReex0UHbyz",
        "outputId": "4f714d0f-727d-42a5-cea7-1f2d2e6d53cb"
      },
      "outputs": [],
      "source": [
        "df.isnull().mean().plot.bar(figsize=(12,6), color=\"#cf7849\") \n",
        "plt.ylabel('Percentage of missing values') \n",
        "plt.xlabel('Features') \n",
        "plt.title('Missing Data in Percentages');"
      ]
    },
    {
      "cell_type": "code",
      "execution_count": null,
      "metadata": {
        "colab": {
          "base_uri": "https://localhost:8080/"
        },
        "id": "SrpnV0wEuyNV",
        "outputId": "cdcc4d10-3520-471f-f686-cb51af764176"
      },
      "outputs": [],
      "source": [
        "df.isnull().mean()*100 "
      ]
    },
    {
      "cell_type": "code",
      "execution_count": null,
      "metadata": {
        "colab": {
          "base_uri": "https://localhost:8080/"
        },
        "id": "eMeG4qmK2box",
        "outputId": "3d8c857a-448b-4104-b1f0-8bed499e09aa"
      },
      "outputs": [],
      "source": [
        "df[df['Potability']==0][['ph','Sulfate','Trihalomethanes']].mean()"
      ]
    },
    {
      "cell_type": "code",
      "execution_count": null,
      "metadata": {
        "colab": {
          "base_uri": "https://localhost:8080/"
        },
        "id": "xZDziQ832fgu",
        "outputId": "4fdf35bf-7468-498b-e7a2-ea0c9f88626e"
      },
      "outputs": [],
      "source": [
        "df[df['Potability']==1][['ph','Sulfate','Trihalomethanes']].mean()"
      ]
    },
    {
      "cell_type": "markdown",
      "metadata": {
        "id": "sCRSkXNe4uoD"
      },
      "source": [
        "The three features with missing values all have Gaussian distribution therefore it is a safe assumption to use the mean of each feature to fill in for the missing values."
      ]
    },
    {
      "cell_type": "code",
      "execution_count": null,
      "metadata": {
        "id": "Vfa0BWzP3AHl"
      },
      "outputs": [],
      "source": [
        "df1 = df.copy()\n",
        "df1['ph'].fillna(value=df1['ph'].mean(),inplace=True)\n",
        "df1['Sulfate'].fillna(value=df1['Sulfate'].mean(),inplace=True)\n",
        "df1['Trihalomethanes'].fillna(value=df1['Trihalomethanes'].mean(),inplace=True)"
      ]
    },
    {
      "cell_type": "code",
      "execution_count": null,
      "metadata": {
        "colab": {
          "base_uri": "https://localhost:8080/"
        },
        "id": "WMImbPWJ3Dvg",
        "outputId": "c2d3e9b4-2822-4c67-f4b1-fc5401247a63"
      },
      "outputs": [],
      "source": [
        "df1.isnull().sum()"
      ]
    },
    {
      "cell_type": "markdown",
      "metadata": {
        "id": "I6fwNdxDk_WO"
      },
      "source": [
        "#Dealing with Outliers"
      ]
    },
    {
      "cell_type": "markdown",
      "metadata": {
        "id": "XwRT8Kefj3eM"
      },
      "source": [
        "Since the features have Gaussian distribution we can trim out the outliers data outside of 3 standard deviations."
      ]
    },
    {
      "cell_type": "code",
      "execution_count": null,
      "metadata": {
        "id": "z87aSFc6fxqC"
      },
      "outputs": [],
      "source": [
        "from scipy import stats\n",
        "\n",
        "df_water = df1.copy()\n",
        "df_water = df_water[(np.abs(stats.zscore(df1)) <= 3).all(axis=1)]"
      ]
    },
    {
      "cell_type": "code",
      "execution_count": null,
      "metadata": {
        "colab": {
          "base_uri": "https://localhost:8080/"
        },
        "id": "uBDiQcR7iiwY",
        "outputId": "543749c0-04b2-4b27-b11a-d02e03e923b9"
      },
      "outputs": [],
      "source": [
        "df_water.shape"
      ]
    },
    {
      "cell_type": "code",
      "execution_count": null,
      "metadata": {
        "colab": {
          "base_uri": "https://localhost:8080/",
          "height": 354
        },
        "id": "1U5KvuJ-gUTQ",
        "outputId": "444b7986-0e86-4a30-e736-f5e880180eac"
      },
      "outputs": [],
      "source": [
        "fig, ax = plt.subplots(ncols=5, nrows=2, figsize=(30,10))\n",
        "index = 0\n",
        "ax = ax.flatten()\n",
        "\n",
        "for attributeCol, value in df_water.items():\n",
        "    sns.boxplot(y=attributeCol, data=df_water, ax=ax[index], color='#597eb3')\n",
        "    index += 1\n",
        "plt.tight_layout(pad=1.5, w_pad=1.5, h_pad=5.0)\n",
        "plt.suptitle('Water Quality Box-Plot (after outlier trimming)',y=1.01, size = 16, color = 'black', weight='bold')"
      ]
    },
    {
      "cell_type": "markdown",
      "metadata": {
        "id": "b6LJMXWckIjX"
      },
      "source": [
        "#Dealing with Class Imbalance"
      ]
    },
    {
      "cell_type": "code",
      "execution_count": null,
      "metadata": {
        "id": "b1ljdN_7iwhC"
      },
      "outputs": [],
      "source": [
        "count_class_0, count_class_1 = df_water.Potability.value_counts()\n",
        "\n",
        "df_class_0 = df_water[df_water['Potability'] == 0]\n",
        "df_class_1 = df_water[df_water['Potability'] == 1]"
      ]
    },
    {
      "cell_type": "code",
      "execution_count": null,
      "metadata": {
        "colab": {
          "base_uri": "https://localhost:8080/",
          "height": 338
        },
        "id": "rDLrdM6AnGfp",
        "outputId": "36ff3cd0-0406-4f93-bf4c-f02405970d3c"
      },
      "outputs": [],
      "source": [
        "df_class_1_over = df_class_1.sample(count_class_0, replace=True)\n",
        "df_test_over = pd.concat([df_class_0, df_class_1_over], axis=0)\n",
        "\n",
        "print('Random over-sampling:')\n",
        "print(df_test_over.Potability.value_counts())\n",
        "\n",
        "df_test_over.Potability.value_counts().plot(kind='pie', title='Count (target)');"
      ]
    },
    {
      "cell_type": "markdown",
      "metadata": {
        "id": "1LHl8Wa8x94f"
      },
      "source": [
        "#Exploring correlation using ANOVA"
      ]
    },
    {
      "cell_type": "code",
      "execution_count": null,
      "metadata": {
        "id": "7gtbwMPdyGVn"
      },
      "outputs": [],
      "source": [
        "def FunctionAnova(inpData, TargetVariable, attributeList):\n",
        "    from scipy.stats import f_oneway\n",
        "\n",
        "    SelectedPredictors=[]\n",
        "    \n",
        "    for predictor in attributeList:\n",
        "        CategoryGroupLists=inpData.groupby(TargetVariable)[predictor].apply(list)\n",
        "        AnovaResults = f_oneway(*CategoryGroupLists)\n",
        "        \n",
        "        # If p-value <0.05, that means we reject H0\n",
        "        if (AnovaResults[1] < 0.05):\n",
        "            print(predictor, 'is correlated with', TargetVariable, ', P-Value:', AnovaResults[1])\n",
        "            SelectedPredictors.append(predictor)\n",
        "        else:\n",
        "            print(predictor, 'is NOT correlated with', TargetVariable, ', P-Value:', AnovaResults[1])\n",
        "    \n",
        "    return(SelectedPredictors)"
      ]
    },
    {
      "cell_type": "code",
      "execution_count": null,
      "metadata": {
        "colab": {
          "base_uri": "https://localhost:8080/"
        },
        "id": "yeHYTM2xyXxx",
        "outputId": "d3565acd-c7c9-4cca-f867-7203d9724ca4"
      },
      "outputs": [],
      "source": [
        "attributeColList = ['ph',\t'Hardness',\t'Solids',\t'Chloramines',\t'Sulfate',\t'Conductivity',\t'Organic_carbon',\t'Trihalomethanes',\t'Turbidity']\n",
        "\n",
        "FunctionAnova(inpData=df_water, TargetVariable='Potability', attributeList=attributeColList)"
      ]
    },
    {
      "cell_type": "markdown",
      "metadata": {
        "id": "FMTUfoxTy1Eh"
      },
      "source": [
        "ANOVA testing determine that there not any features that correlate with the target variable Potability with an acceptable P-Value."
      ]
    },
    {
      "cell_type": "markdown",
      "metadata": {
        "id": "xJq2b_xt0i72"
      },
      "source": [
        "#Preprocessing: Train-test split and standardized scaler"
      ]
    },
    {
      "cell_type": "code",
      "execution_count": null,
      "metadata": {
        "id": "I45BWaeKCYog"
      },
      "outputs": [],
      "source": [
        "from sklearn.model_selection import train_test_split\n",
        "\n",
        "X = df_test_over.drop('Potability',axis=1)\n",
        "y = df_test_over['Potability']\n",
        "\n",
        "X_train,X_test, y_train, y_test = train_test_split(X, y, test_size=0.2, random_state=42)"
      ]
    },
    {
      "cell_type": "code",
      "execution_count": null,
      "metadata": {
        "id": "cYoJfOMWikKG"
      },
      "outputs": [],
      "source": [
        "from sklearn.preprocessing import StandardScaler\n",
        "\n",
        "scale = StandardScaler()\n",
        "X_train=scale.fit_transform(X_train)\n",
        "X_test=scale.transform(X_test)"
      ]
    },
    {
      "cell_type": "code",
      "execution_count": null,
      "metadata": {
        "colab": {
          "base_uri": "https://localhost:8080/"
        },
        "id": "GqAnpOlws3Qa",
        "outputId": "82690568-2896-4fa4-dedc-446d747553f2"
      },
      "outputs": [],
      "source": [
        "print(\"X_train:\", X_train.shape, \"\\ny_train:\", y_train.shape)\n",
        "print(\"X_test:\", X_test.shape, \"\\ny_test:\", y_test.shape)"
      ]
    },
    {
      "cell_type": "markdown",
      "metadata": {
        "id": "npw3wN3NWIoD"
      },
      "source": [
        "#Exploring dimensionalty reduction using PCA:"
      ]
    },
    {
      "cell_type": "code",
      "execution_count": null,
      "metadata": {
        "colab": {
          "base_uri": "https://localhost:8080/",
          "height": 295
        },
        "id": "0OpvDKTYFyY1",
        "outputId": "3543b50d-7159-4e7d-f5ed-4cb7987011d7"
      },
      "outputs": [],
      "source": [
        "from sklearn.decomposition import PCA\n",
        "\n",
        "pca = PCA()\n",
        "\n",
        "X_train_pca = pca.fit_transform(X_train)\n",
        "exp_var_pca = pca.explained_variance_ratio_\n",
        "\n",
        "cum_sum_eigenvalues = np.cumsum(exp_var_pca)\n",
        "\n",
        "plt.bar(range(0,len(exp_var_pca)), exp_var_pca, alpha=0.5, align='center', label='Individual explained variance')\n",
        "plt.step(range(0,len(cum_sum_eigenvalues)), cum_sum_eigenvalues, where='mid', label='Cumulative explained variance')\n",
        "plt.ylabel('Explained variance ratio')\n",
        "plt.xlabel('Principal component index')\n",
        "plt.title(\"Water Quality PCA\")\n",
        "plt.legend(loc='best')\n",
        "plt.show()"
      ]
    },
    {
      "cell_type": "markdown",
      "metadata": {
        "id": "89S--kOJOW0V"
      },
      "source": [
        "PCA tells us that all the features are independent and confirm our previous observations from the correlation matrix and heatmap that there are not linear relationships between the features. This PCA analysis of explained variance ratio tells us that we would still need 8 components to explain 80% of the variance. Therefore, dimensionality reduction will not be beneficial with this dataset."
      ]
    },
    {
      "cell_type": "markdown",
      "metadata": {
        "id": "Eb8dHUdBW_BI"
      },
      "source": [
        "#Model Training -- First Iteration"
      ]
    },
    {
      "cell_type": "code",
      "execution_count": null,
      "metadata": {
        "id": "zGRSGNyE5g7-"
      },
      "outputs": [],
      "source": [
        "from sklearn.metrics import precision_score, accuracy_score, mean_absolute_error, mean_squared_error, confusion_matrix, classification_report, recall_score, f1_score\n",
        "\n",
        "from sklearn.linear_model import LogisticRegression\n",
        "from sklearn.svm import SVC\n",
        "from sklearn.tree import DecisionTreeClassifier\n",
        "from sklearn.neighbors import KNeighborsClassifier\n",
        "from sklearn.ensemble import RandomForestClassifier\n",
        "from xgboost import XGBClassifier"
      ]
    },
    {
      "cell_type": "markdown",
      "metadata": {
        "id": "VjDGDBDaYcmn"
      },
      "source": [
        "#1. Logistic Regression -- First Iteration"
      ]
    },
    {
      "cell_type": "code",
      "execution_count": null,
      "metadata": {
        "id": "36XfrH7iYcmo"
      },
      "outputs": [],
      "source": [
        "LogReg = LogisticRegression()\n",
        "LogReg.fit(X_train, y_train)\n",
        "LogReg_pred = LogReg.predict(X_test)\n",
        "LogReg_acc = accuracy_score(y_test, LogReg_pred)\n",
        "LogReg_mae = mean_absolute_error(y_test, LogReg_pred)\n",
        "LogReg_mse = mean_squared_error(y_test, LogReg_pred)\n",
        "LogReg_rmse = np.sqrt(mean_squared_error(y_test, LogReg_pred))\n",
        "LogReg_precision = precision_score(y_test, LogReg_pred)\n",
        "LogReg_recall = recall_score(y_test, LogReg_pred)\n",
        "LogReg_f1 = f1_score(y_test, LogReg_pred)"
      ]
    },
    {
      "cell_type": "code",
      "execution_count": null,
      "metadata": {
        "colab": {
          "base_uri": "https://localhost:8080/"
        },
        "id": "0wl6sdYAYcmp",
        "outputId": "8fbb3e5e-08ff-4199-ccaa-96195eb81ccd"
      },
      "outputs": [],
      "source": [
        "print(\"The accuracy for Logistic Regression is\", LogReg_acc)\n",
        "print(\"The classification report using Logistic Regression is:\")\n",
        "print(classification_report(y_test, LogReg_pred))"
      ]
    },
    {
      "cell_type": "code",
      "execution_count": null,
      "metadata": {
        "colab": {
          "base_uri": "https://localhost:8080/",
          "height": 299
        },
        "id": "Joh7fwIluDOc",
        "outputId": "7f6dda30-42ee-4d88-ac7b-54cbae977104"
      },
      "outputs": [],
      "source": [
        "LogReg_cm = confusion_matrix(y_test, LogReg_pred)\n",
        "sns.heatmap(LogReg_cm/np.sum(LogReg_cm), annot = True, fmt = '0.2%', cmap = 'Oranges')\n",
        "plt.title(\"Logisitic Regression Confusion Matrix\")"
      ]
    },
    {
      "cell_type": "markdown",
      "metadata": {
        "id": "R01d8zk7Ycmr"
      },
      "source": [
        "#2. K-Nearest Neighbour Regression -- First Iteration"
      ]
    },
    {
      "cell_type": "code",
      "execution_count": null,
      "metadata": {
        "id": "BhGQz0eIYcms"
      },
      "outputs": [],
      "source": [
        "KNN = KNeighborsClassifier()\n",
        "KNN.fit(X_train, y_train)\n",
        "KNN_pred = KNN.predict(X_test)\n",
        "KNN_acc = accuracy_score(y_test, KNN_pred)\n",
        "KNN_mae = mean_absolute_error(y_test, KNN_pred)\n",
        "KNN_mse = mean_squared_error(y_test, KNN_pred)\n",
        "KNN_rmse = np.sqrt(mean_squared_error(y_test, KNN_pred))\n",
        "KNN_precision = precision_score(y_test, KNN_pred) \n",
        "KNN_recall = recall_score(y_test, KNN_pred) \n",
        "KNN_f1 = f1_score(y_test, KNN_pred)"
      ]
    },
    {
      "cell_type": "code",
      "execution_count": null,
      "metadata": {
        "colab": {
          "base_uri": "https://localhost:8080/"
        },
        "id": "hX23pOmTYcms",
        "outputId": "e1cf7413-2972-40be-acf9-17cb7425ec4a"
      },
      "outputs": [],
      "source": [
        "print(\"The accuracy for KNeighbors is\", KNN_acc)\n",
        "print(\"The classification report using KNeighbors is:\", KNN_acc)\n",
        "print(classification_report(y_test, KNN_pred))"
      ]
    },
    {
      "cell_type": "code",
      "execution_count": null,
      "metadata": {
        "colab": {
          "base_uri": "https://localhost:8080/",
          "height": 299
        },
        "id": "IHonLAdLuqXD",
        "outputId": "7b35c1d3-b40c-4e2b-e147-895106cf7a46"
      },
      "outputs": [],
      "source": [
        "KNN_cm = confusion_matrix(y_test, KNN_pred)\n",
        "sns.heatmap(KNN_cm/np.sum(KNN_cm), annot = True, fmt = '0.2%', cmap = 'Oranges')\n",
        "plt.title(\"KNN Regression Confusion Matrix\")"
      ]
    },
    {
      "cell_type": "markdown",
      "metadata": {
        "id": "wiIlOCVCYcmt"
      },
      "source": [
        "#3. Decision Tree Classifier -- First Iteration"
      ]
    },
    {
      "cell_type": "code",
      "execution_count": null,
      "metadata": {
        "id": "ydDTtnJxYcmu"
      },
      "outputs": [],
      "source": [
        "DecTree = DecisionTreeClassifier()\n",
        "DecTree.fit(X_train, y_train)\n",
        "DecTree_pred = DecTree.predict(X_test)\n",
        "DecTree_acc = accuracy_score(y_test, DecTree_pred)\n",
        "DecTree_precision = precision_score(y_test, DecTree_pred) \n",
        "DecTree_recall = recall_score(y_test, DecTree_pred) \n",
        "DecTree_f1 = f1_score(y_test, DecTree_pred)"
      ]
    },
    {
      "cell_type": "code",
      "execution_count": null,
      "metadata": {
        "colab": {
          "base_uri": "https://localhost:8080/"
        },
        "id": "Q92D8GH9Ycmv",
        "outputId": "1f9b8396-ef9d-4565-a0f3-9c7fb0ac69c8"
      },
      "outputs": [],
      "source": [
        "print(\"The accuracy for Decision Tree is\", DecTree_acc)\n",
        "print(\"The classification report using Decision Tree is:\")\n",
        "print(classification_report(y_test, DecTree_pred))"
      ]
    },
    {
      "cell_type": "code",
      "execution_count": null,
      "metadata": {
        "colab": {
          "base_uri": "https://localhost:8080/",
          "height": 299
        },
        "id": "pps7zDpGwY7K",
        "outputId": "261e0fc9-031b-4c8b-85ae-f6e484706c1d"
      },
      "outputs": [],
      "source": [
        "DecTree_cm = confusion_matrix(y_test, DecTree_pred)\n",
        "sns.heatmap(DecTree_cm/np.sum(DecTree_cm), annot = True, fmt = '0.2%', cmap = 'Oranges')\n",
        "plt.title(\"Decision Tree Confusion Matrix\")"
      ]
    },
    {
      "cell_type": "markdown",
      "metadata": {
        "id": "626amNTDYcmw"
      },
      "source": [
        "#4. Random Forest Classifier -- First Iteration"
      ]
    },
    {
      "cell_type": "code",
      "execution_count": null,
      "metadata": {
        "id": "x65nIfyfYcmw"
      },
      "outputs": [],
      "source": [
        "RFTree = RandomForestClassifier()\n",
        "RFTree.fit(X_train, y_train)\n",
        "RFTree_pred = RFTree.predict(X_test)\n",
        "RFTree_acc = accuracy_score(y_test, RFTree_pred)\n",
        "RFTree_precision = precision_score(y_test, RFTree_pred) \n",
        "RFTree_recall = recall_score(y_test, RFTree_pred) \n",
        "RFTree_f1 = f1_score(y_test, RFTree_pred)"
      ]
    },
    {
      "cell_type": "code",
      "execution_count": null,
      "metadata": {
        "colab": {
          "base_uri": "https://localhost:8080/"
        },
        "id": "JnFg3USAYcmx",
        "outputId": "936da294-290a-47ad-fcce-f155888d6974"
      },
      "outputs": [],
      "source": [
        "print(\"The accuracy for Random Forest is\", RFTree_acc)\n",
        "print(\"The classification report using Random Forest is:\")\n",
        "print(classification_report(y_test, RFTree_pred))"
      ]
    },
    {
      "cell_type": "code",
      "execution_count": null,
      "metadata": {
        "colab": {
          "base_uri": "https://localhost:8080/",
          "height": 299
        },
        "id": "0xOTAC0VwoEU",
        "outputId": "b5b0be00-f4b9-47bd-b9ff-652cc7da36ce"
      },
      "outputs": [],
      "source": [
        "RFTree_cm = confusion_matrix(y_test, RFTree_pred)\n",
        "sns.heatmap(RFTree_cm/np.sum(RFTree_cm), annot = True, fmt = '0.2%', cmap = 'Oranges')\n",
        "plt.title(\"Random Forest Confusion Matrix\")"
      ]
    },
    {
      "cell_type": "markdown",
      "metadata": {
        "id": "AvpGTalwYcmy"
      },
      "source": [
        "#5. Support Vector Machine Classifier -- First Iteration"
      ]
    },
    {
      "cell_type": "code",
      "execution_count": null,
      "metadata": {
        "id": "kUWDYEFTYcmy"
      },
      "outputs": [],
      "source": [
        "SVM = SVC()\n",
        "SVM.fit(X_train, y_train)\n",
        "SVM_pred = SVM.predict(X_test)\n",
        "SVM_acc = accuracy_score(y_test, SVM_pred)\n",
        "SVM_precision = precision_score(y_test, SVM_pred) \n",
        "SVM_recall = recall_score(y_test, SVM_pred) \n",
        "SVM_f1 = f1_score(y_test, SVM_pred)"
      ]
    },
    {
      "cell_type": "code",
      "execution_count": null,
      "metadata": {
        "colab": {
          "base_uri": "https://localhost:8080/"
        },
        "id": "fBSmwWg4Ycmz",
        "outputId": "aee2141d-bf40-48ce-a1e2-cddf2362097e"
      },
      "outputs": [],
      "source": [
        "print(\"The accuracy for SVM is\", SVM_acc)\n",
        "print(\"The classification report using SVM is:\", SVM_acc)\n",
        "print(classification_report(y_test, SVM_pred))"
      ]
    },
    {
      "cell_type": "code",
      "execution_count": null,
      "metadata": {
        "colab": {
          "base_uri": "https://localhost:8080/",
          "height": 299
        },
        "id": "X53LOa1xxB3q",
        "outputId": "579c9f81-d600-4dad-d814-1e1dcd366201"
      },
      "outputs": [],
      "source": [
        "SVM_cm = confusion_matrix(y_test, SVM_pred)\n",
        "sns.heatmap(SVM_cm/np.sum(SVM_cm), annot = True, fmt = '0.2%', cmap = 'Oranges')\n",
        "plt.title(\"SVM Confusion Matrix\")"
      ]
    },
    {
      "cell_type": "markdown",
      "metadata": {
        "id": "9R88u1DmYcm0"
      },
      "source": [
        "#6. XGBoost Classifier -- First Interation"
      ]
    },
    {
      "cell_type": "code",
      "execution_count": null,
      "metadata": {
        "id": "ducu9sr6Ycm1"
      },
      "outputs": [],
      "source": [
        "XGB = XGBClassifier()\n",
        "XGB.fit(X_train, y_train)\n",
        "XGB_pred = XGB.predict(X_test)\n",
        "XGB_acc = accuracy_score(y_test, XGB_pred)\n",
        "XGB_precision = precision_score(y_test, XGB_pred)\n",
        "XGB_recall = recall_score(y_test, XGB_pred)\n",
        "XGB_f1 = f1_score(y_test, XGB_pred)"
      ]
    },
    {
      "cell_type": "code",
      "execution_count": null,
      "metadata": {
        "colab": {
          "base_uri": "https://localhost:8080/"
        },
        "id": "yWp9FjOJYcm1",
        "outputId": "221025f7-6ee4-478f-a510-d277aca43907"
      },
      "outputs": [],
      "source": [
        "print(\"The accuracy for XGBoost is\", XGB_acc)\n",
        "print(\"The classification report using XGBoost is:\", XGB_acc)\n",
        "print(classification_report(y_test, XGB_pred))"
      ]
    },
    {
      "cell_type": "code",
      "execution_count": null,
      "metadata": {
        "colab": {
          "base_uri": "https://localhost:8080/",
          "height": 299
        },
        "id": "mfEslSCzxmCn",
        "outputId": "ae3a2b60-f503-47d0-b27c-b8bc25bb929d"
      },
      "outputs": [],
      "source": [
        "XGB_cm = confusion_matrix(y_test, XGB_pred)\n",
        "sns.heatmap(XGB_cm/np.sum(XGB_cm), annot = True, fmt = '0.2%', cmap = 'Oranges')\n",
        "plt.title(\"XGBoost Confusion Matrix\")"
      ]
    },
    {
      "cell_type": "markdown",
      "metadata": {
        "id": "xdnkp_cMt4zO"
      },
      "source": [
        "#Algorithm Comparison -- First Iteration"
      ]
    },
    {
      "cell_type": "code",
      "execution_count": null,
      "metadata": {
        "id": "gKibR9osYcm2"
      },
      "outputs": [],
      "source": [
        "models = pd.DataFrame({\n",
        "    'Model':['Logistic Regression', 'KNN Regression', 'Decision Tree', 'Random Forest', 'Support Vector', 'XGBoost'],\n",
        "    'Accuracy' :[LogReg_acc, KNN_acc, DecTree_acc, RFTree_acc, SVM_acc, XGB_acc],\n",
        "    'Precision' :[LogReg_precision, KNN_precision, DecTree_precision, RFTree_precision, SVM_precision, XGB_precision],\n",
        "    'Recall' :[LogReg_recall, KNN_recall, DecTree_recall, RFTree_recall, SVM_recall, XGB_recall],\n",
        "    'F1 Score' :[LogReg_f1, KNN_f1, DecTree_f1, RFTree_f1, SVM_f1, XGB_f1]\n",
        "})\n",
        "models = models.sort_values(by='Accuracy', ascending=False)"
      ]
    },
    {
      "cell_type": "code",
      "execution_count": null,
      "metadata": {
        "colab": {
          "base_uri": "https://localhost:8080/",
          "height": 237
        },
        "id": "EVLTYHF_Ycm2",
        "outputId": "551668d6-e6a4-4373-9459-1cc44c32f0b7"
      },
      "outputs": [],
      "source": [
        "models"
      ]
    },
    {
      "cell_type": "code",
      "execution_count": null,
      "metadata": {
        "colab": {
          "base_uri": "https://localhost:8080/",
          "height": 555
        },
        "id": "GV-jhvKRYcm3",
        "outputId": "bc2157e6-caf8-4d59-90f7-059c9bdb43eb"
      },
      "outputs": [],
      "source": [
        "fig = plt.figure(figsize=(15,9))\n",
        "\n",
        "ax = sns.barplot(data=models, \n",
        "                 y='Model', \n",
        "                 x='Accuracy',\n",
        "                 palette = 'Oranges_r')\n",
        "\n",
        "ax.figure.suptitle('Performance of Models -- First Iteration',y=0.91, size = 16, color = 'black', weight='bold');\n",
        "\n",
        "plt.xlabel('Accuracy')\n",
        "plt.ylabel('Models')\n",
        "plt.axvline(x = 0.8, ymin = 0, ymax = 1,\n",
        "            linewidth = 2, linestyle =\":\",\n",
        "            color ='#cf7849');"
      ]
    },
    {
      "cell_type": "markdown",
      "metadata": {
        "id": "cl0I_JFCZ0Pr"
      },
      "source": [
        "After the first iteration of model training we can see that Logistic Regression performed the lowest while KNN, SVM and XGBoost had close accuracy values around 65%. Decision tree classifier had a 76% accuracy while Random Forest was able to be accurate to 83% "
      ]
    },
    {
      "cell_type": "markdown",
      "metadata": {
        "id": "F2u41wVrCRbr"
      },
      "source": [
        "#Hyper-tunning parameters"
      ]
    },
    {
      "cell_type": "code",
      "execution_count": null,
      "metadata": {
        "id": "rrjGftyGCVVj"
      },
      "outputs": [],
      "source": [
        "from sklearn.model_selection import RandomizedSearchCV, GridSearchCV\n",
        "\n",
        "lgr = LogisticRegression()\n",
        "knn = KNeighborsClassifier()\n",
        "dt = DecisionTreeClassifier()\n",
        "rf = RandomForestClassifier()\n",
        "svc = SVC()\n",
        "xgb =XGBClassifier(eval_metric = 'logloss', use_label_encoder=False)"
      ]
    },
    {
      "cell_type": "code",
      "execution_count": null,
      "metadata": {
        "colab": {
          "base_uri": "https://localhost:8080/"
        },
        "id": "NMhqPsnpaeyj",
        "outputId": "a974b404-ad4e-47cd-d493-418906804111"
      },
      "outputs": [],
      "source": [
        "para_lgr = {'solver':['newton-cg', 'lbfgs', 'sag', 'saga', 'liblinear'], 'penalty': ['l1', 'l2', 'elasticnet', 'none']}\n",
        "grid_lgr = GridSearchCV(lgr, param_grid=para_lgr, cv=5)\n",
        "grid_lgr.fit(X_train, y_train)\n",
        "print(\"Best parameters for Logistic Regression:\", grid_lgr.best_params_)"
      ]
    },
    {
      "cell_type": "code",
      "execution_count": null,
      "metadata": {
        "colab": {
          "base_uri": "https://localhost:8080/"
        },
        "id": "tlBT_4YQT4TB",
        "outputId": "c6468930-90d5-44a3-c2b6-e90cf7e0fc0f"
      },
      "outputs": [],
      "source": [
        "para_knn = {'n_neighbors':np.arange(1, 50), 'weights': ['uniform', 'distance'], 'algorithm': ['auto', 'ball_tree', 'kd_tree', 'brute']}\n",
        "grid_knn = GridSearchCV(knn, param_grid=para_knn, cv=5)\n",
        "grid_knn.fit(X_train, y_train)\n",
        "print(\"Best parameters for KNN:\", grid_knn.best_params_)"
      ]
    },
    {
      "cell_type": "code",
      "execution_count": null,
      "metadata": {
        "colab": {
          "base_uri": "https://localhost:8080/"
        },
        "id": "9JgksXpxUA6x",
        "outputId": "2558c143-5acf-41e1-a353-aaf0790361bc"
      },
      "outputs": [],
      "source": [
        "para_dt = {'criterion':['gini','entropy'],'max_depth':np.arange(1, 50), 'min_samples_leaf':[1,2,4,5,10,20,30,40,80,100]}\n",
        "grid_dt = GridSearchCV(dt, param_grid=para_dt, cv=5) \n",
        "grid_dt.fit(X_train, y_train)\n",
        "print(\"Best parameters for Decision Tree:\", grid_dt.best_params_)"
      ]
    },
    {
      "cell_type": "code",
      "execution_count": null,
      "metadata": {
        "colab": {
          "base_uri": "https://localhost:8080/"
        },
        "id": "0qA1zLINUI-7",
        "outputId": "cec0e1a8-642b-4597-d9a0-85702ad2f5b2"
      },
      "outputs": [],
      "source": [
        "params_rf = {'n_estimators':[100,200, 350, 500], 'min_samples_leaf':[2, 10, 30]}\n",
        "grid_rf = GridSearchCV(rf, param_grid=params_rf, cv=5)\n",
        "grid_rf.fit(X_train, y_train)\n",
        "print(\"Best parameters for Random Forest:\", grid_rf.best_params_)"
      ]
    },
    {
      "cell_type": "code",
      "execution_count": null,
      "metadata": {
        "colab": {
          "base_uri": "https://localhost:8080/"
        },
        "id": "YvY_ggcjbjZH",
        "outputId": "bfc7af4e-f792-4bab-bfd9-85de4318b72e"
      },
      "outputs": [],
      "source": [
        "para_svc = {'C': [0.1, 1, 10, 100, 1000], 'gamma': [1, 0.1, 0.01, 0.001, 0.0001],\n",
        "              'kernel': ['rbf']}\n",
        "grid_svc = GridSearchCV(svc, param_grid=para_svc, cv=5)\n",
        "grid_svc.fit(X_train, y_train)\n",
        "print(\"Best parameters for SVM:\", grid_svc.best_params_)"
      ]
    },
    {
      "cell_type": "code",
      "execution_count": null,
      "metadata": {
        "colab": {
          "base_uri": "https://localhost:8080/"
        },
        "id": "WHJjj1nRUPRU",
        "outputId": "6229f450-8927-44bf-dbf5-d3021b2a9e11"
      },
      "outputs": [],
      "source": [
        "params_xgb = {'n_estimators': [50,100,250,400,600,800,1000], 'learning_rate': [0.2,0.5,0.8,1]}\n",
        "rs_xgb =  RandomizedSearchCV(xgb, param_distributions=params_xgb, cv=5)\n",
        "rs_xgb.fit(X_train, y_train)\n",
        "print(\"Best parameters for XGBoost:\", rs_xgb.best_params_)"
      ]
    },
    {
      "cell_type": "markdown",
      "metadata": {
        "id": "TN0WTauwBec2"
      },
      "source": [
        "#Predictive Modeling/Classication -- Second Iteration:\n",
        "After hypertuning"
      ]
    },
    {
      "cell_type": "markdown",
      "metadata": {
        "id": "WdM45niqUG-I"
      },
      "source": [
        "#1. Logistic Regression -- Second Iteration"
      ]
    },
    {
      "cell_type": "code",
      "execution_count": null,
      "metadata": {
        "id": "sa1AvCrfUA2b"
      },
      "outputs": [],
      "source": [
        "LogReg2 = LogisticRegression(penalty = 'l1', solver= 'liblinear')\n",
        "LogReg2.fit(X_train, y_train)\n",
        "LogReg2_pred = LogReg2.predict(X_test)\n",
        "LogReg2_acc = accuracy_score(y_test, LogReg2_pred)\n",
        "LogReg2_mae = mean_absolute_error(y_test, LogReg2_pred)\n",
        "LogReg2_mse = mean_squared_error(y_test, LogReg2_pred)\n",
        "LogReg2_rmse = np.sqrt(mean_squared_error(y_test, LogReg2_pred))\n",
        "LogReg2_precision = precision_score(y_test, LogReg2_pred)\n",
        "LogReg2_recall = recall_score(y_test, LogReg2_pred)\n",
        "LogReg2_f1 = f1_score(y_test, LogReg2_pred)"
      ]
    },
    {
      "cell_type": "code",
      "execution_count": null,
      "metadata": {
        "colab": {
          "base_uri": "https://localhost:8080/"
        },
        "id": "qlwf2Ok4Qt-G",
        "outputId": "da2edb18-f387-43cb-d64b-6d14d8b8fa26"
      },
      "outputs": [],
      "source": [
        "print(\"The accuracy for Logistic Regression is\", LogReg2_acc)\n",
        "print(\"The classification report using Logistic Regression is:\")\n",
        "print(classification_report(y_test, LogReg2_pred))"
      ]
    },
    {
      "cell_type": "code",
      "execution_count": null,
      "metadata": {
        "colab": {
          "base_uri": "https://localhost:8080/",
          "height": 299
        },
        "id": "9aPS94D7Redk",
        "outputId": "6507ee07-28ce-4419-df80-5017807a2e8c"
      },
      "outputs": [],
      "source": [
        "LogReg2_cm = confusion_matrix(y_test, LogReg2_pred)\n",
        "sns.heatmap(LogReg2_cm/np.sum(LogReg2_cm), annot = True, fmt = '0.2%', cmap = 'Blues')\n",
        "plt.title(\"Logisitic Regression Confusion Matrix\")"
      ]
    },
    {
      "cell_type": "markdown",
      "metadata": {
        "id": "uTfNeYovSL7l"
      },
      "source": [
        "#2. K-Nearest Neighbour Regression -- Second Iteration"
      ]
    },
    {
      "cell_type": "code",
      "execution_count": null,
      "metadata": {
        "id": "bLqVuYvrST9h"
      },
      "outputs": [],
      "source": [
        "KNN2 = KNeighborsClassifier(algorithm = 'auto', n_neighbors = 1, weights ='uniform')\n",
        "KNN2.fit(X_train, y_train)\n",
        "KNN2_pred = KNN2.predict(X_test)\n",
        "KNN2_acc = accuracy_score(y_test, KNN2_pred)\n",
        "KNN2_mae = mean_absolute_error(y_test, KNN2_pred)\n",
        "KNN2_mse = mean_squared_error(y_test, KNN2_pred)\n",
        "KNN2_rmse = np.sqrt(mean_squared_error(y_test, KNN2_pred))\n",
        "KNN2_precision = precision_score(y_test, KNN2_pred) \n",
        "KNN2_recall = recall_score(y_test, KNN2_pred) \n",
        "KNN2_f1 = f1_score(y_test, KNN2_pred)"
      ]
    },
    {
      "cell_type": "code",
      "execution_count": null,
      "metadata": {
        "colab": {
          "base_uri": "https://localhost:8080/"
        },
        "id": "yKnPt1w6TJFk",
        "outputId": "dbd3615a-09ef-4721-95e4-8f8ee74f1de4"
      },
      "outputs": [],
      "source": [
        "print(\"The accuracy for KNeighbors is\", KNN2_acc)\n",
        "print(\"The classification report using KNeighbors is:\", KNN2_acc)\n",
        "print(classification_report(y_test, KNN2_pred))"
      ]
    },
    {
      "cell_type": "code",
      "execution_count": null,
      "metadata": {
        "colab": {
          "base_uri": "https://localhost:8080/",
          "height": 299
        },
        "id": "1u8FNFBOTh2y",
        "outputId": "8ff9dd9d-7369-4383-b178-981e510a04b7"
      },
      "outputs": [],
      "source": [
        "KNN2_cm = confusion_matrix(y_test, KNN2_pred)\n",
        "sns.heatmap(KNN2_cm/np.sum(KNN2_cm), annot = True, fmt = '0.2%', cmap = 'Blues')\n",
        "plt.title(\"KNN Regression Confusion Matrix\")"
      ]
    },
    {
      "cell_type": "markdown",
      "metadata": {
        "id": "2aY_yRDYT3eT"
      },
      "source": [
        "#3. Decision Tree Classifier -- Second Iteration"
      ]
    },
    {
      "cell_type": "code",
      "execution_count": null,
      "metadata": {
        "id": "MI8X6-63T3IK"
      },
      "outputs": [],
      "source": [
        "DecTree2 = DecisionTreeClassifier(criterion = 'entropy', max_depth = 44, min_samples_leaf = 1)\n",
        "DecTree2.fit(X_train, y_train)\n",
        "DecTree2_pred = DecTree2.predict(X_test)\n",
        "DecTree2_acc = accuracy_score(y_test, DecTree2_pred)\n",
        "DecTree2_precision = precision_score(y_test, DecTree2_pred) \n",
        "DecTree2_recall = recall_score(y_test, DecTree2_pred) \n",
        "DecTree2_f1 = f1_score(y_test, DecTree2_pred)"
      ]
    },
    {
      "cell_type": "code",
      "execution_count": null,
      "metadata": {
        "colab": {
          "base_uri": "https://localhost:8080/"
        },
        "id": "Ldtl8UQDWMfD",
        "outputId": "191fa58b-0287-4fef-9ee3-d02ff869b17a"
      },
      "outputs": [],
      "source": [
        "print(\"The accuracy for Decision Tree is\", DecTree2_acc)\n",
        "print(\"The classification report using Decision Tree is:\")\n",
        "print(classification_report(y_test, DecTree2_pred))"
      ]
    },
    {
      "cell_type": "code",
      "execution_count": null,
      "metadata": {
        "colab": {
          "base_uri": "https://localhost:8080/",
          "height": 299
        },
        "id": "HUzuUXspWd_j",
        "outputId": "e52bfb7e-4206-4977-fb02-dae96d10c819"
      },
      "outputs": [],
      "source": [
        "DecTree2_cm = confusion_matrix(y_test, DecTree2_pred)\n",
        "sns.heatmap(DecTree2_cm/np.sum(DecTree2_cm), annot = True, fmt = '0.2%', cmap = 'Blues')\n",
        "plt.title(\"Decision Tree Confusion Matrix\")"
      ]
    },
    {
      "cell_type": "markdown",
      "metadata": {
        "id": "sD5Z7N45W0aE"
      },
      "source": [
        "#4. Random Forest Classifier --  Second Iteration"
      ]
    },
    {
      "cell_type": "code",
      "execution_count": null,
      "metadata": {
        "id": "D1fpMy8WW8pf"
      },
      "outputs": [],
      "source": [
        "RFTree2 = RandomForestClassifier(min_samples_leaf = 2, n_estimators = 200)\n",
        "RFTree2.fit(X_train, y_train)\n",
        "RFTree2_pred = RFTree2.predict(X_test)\n",
        "RFTree2_acc = accuracy_score(y_test, RFTree2_pred)\n",
        "RFTree2_precision = precision_score(y_test, RFTree2_pred) \n",
        "RFTree2_recall = recall_score(y_test, RFTree2_pred) \n",
        "RFTree2_f1 = f1_score(y_test, RFTree2_pred)"
      ]
    },
    {
      "cell_type": "code",
      "execution_count": null,
      "metadata": {
        "colab": {
          "base_uri": "https://localhost:8080/"
        },
        "id": "foJsRQZYXPth",
        "outputId": "17b4077f-89e2-49c8-e7b1-d6bab097e7f7"
      },
      "outputs": [],
      "source": [
        "print(\"The accuracy for Random Forest is\", RFTree2_acc)\n",
        "print(\"The classification report using Random Forest is:\")\n",
        "print(classification_report(y_test, RFTree2_pred))"
      ]
    },
    {
      "cell_type": "code",
      "execution_count": null,
      "metadata": {
        "colab": {
          "base_uri": "https://localhost:8080/",
          "height": 299
        },
        "id": "lfupLz4OXVF7",
        "outputId": "cbd8d728-3b4c-4963-cf58-75a1d2a4eeef"
      },
      "outputs": [],
      "source": [
        "RFTree2_cm = confusion_matrix(y_test, RFTree2_pred)\n",
        "sns.heatmap(RFTree2_cm/np.sum(RFTree2_cm), annot = True, fmt = '0.2%', cmap = 'Blues')\n",
        "plt.title(\"Random Forest Confusion Matrix\")"
      ]
    },
    {
      "cell_type": "markdown",
      "metadata": {
        "id": "VZQ8EdnHXidL"
      },
      "source": [
        "#5. Support Vector Machine Classifier -- Second Iteration"
      ]
    },
    {
      "cell_type": "code",
      "execution_count": null,
      "metadata": {
        "id": "JJH2SCPoXsrG"
      },
      "outputs": [],
      "source": [
        "SVM2 = SVC(C = 10, gamma = 1, kernel = 'rbf')\n",
        "SVM2.fit(X_train, y_train)\n",
        "SVM2_pred = SVM2.predict(X_test)\n",
        "SVM2_acc = accuracy_score(y_test, SVM2_pred)\n",
        "SVM2_precision = precision_score(y_test, SVM2_pred) \n",
        "SVM2_recall = recall_score(y_test, SVM2_pred) \n",
        "SVM2_f1 = f1_score(y_test, SVM2_pred)"
      ]
    },
    {
      "cell_type": "code",
      "execution_count": null,
      "metadata": {
        "colab": {
          "base_uri": "https://localhost:8080/"
        },
        "id": "pAVMqLkTX8Ei",
        "outputId": "38513f34-4962-4708-9317-4488df58d38f"
      },
      "outputs": [],
      "source": [
        "print(\"The accuracy for SVM is\", SVM2_acc)\n",
        "print(\"The classification report using SVM is:\", SVM2_acc)\n",
        "print(classification_report(y_test, SVM2_pred))"
      ]
    },
    {
      "cell_type": "code",
      "execution_count": null,
      "metadata": {
        "colab": {
          "base_uri": "https://localhost:8080/",
          "height": 299
        },
        "id": "Ov_8T_3QX_Mf",
        "outputId": "d9e58a22-ed34-4c1a-a6e6-04af85918e4c"
      },
      "outputs": [],
      "source": [
        "SVM2_cm = confusion_matrix(y_test, SVM2_pred)\n",
        "sns.heatmap(SVM2_cm/np.sum(SVM2_cm), annot = True, fmt = '0.2%', cmap = 'Blues')\n",
        "plt.title(\"SVM Confusion Matrix\")"
      ]
    },
    {
      "cell_type": "markdown",
      "metadata": {
        "id": "rOtdv7ZUYhtp"
      },
      "source": [
        "#6. XGBoost Classifier -- Second Iteration"
      ]
    },
    {
      "cell_type": "code",
      "execution_count": null,
      "metadata": {
        "id": "tHdFhyTOYuH8"
      },
      "outputs": [],
      "source": [
        "XGB2 = XGBClassifier(n_estimators = 600, learning_rate = 0.8)\n",
        "XGB2.fit(X_train, y_train)\n",
        "XGB2_pred = XGB2.predict(X_test)\n",
        "XGB2_acc = accuracy_score(y_test, XGB2_pred)\n",
        "XGB2_precision = precision_score(y_test, XGB2_pred)\n",
        "XGB2_recall = recall_score(y_test, XGB2_pred)\n",
        "XGB2_f1 = f1_score(y_test, XGB2_pred)"
      ]
    },
    {
      "cell_type": "code",
      "execution_count": null,
      "metadata": {
        "colab": {
          "base_uri": "https://localhost:8080/"
        },
        "id": "hQAzBpDkY1VG",
        "outputId": "6fd4869e-945a-4dc6-c581-ec20b4529c7b"
      },
      "outputs": [],
      "source": [
        "print(\"The accuracy for XGBoost is\", XGB2_acc)\n",
        "print(\"The classification report using XGBoost is:\", XGB2_acc)\n",
        "print(classification_report(y_test, XGB2_pred))"
      ]
    },
    {
      "cell_type": "code",
      "execution_count": null,
      "metadata": {
        "colab": {
          "base_uri": "https://localhost:8080/",
          "height": 299
        },
        "id": "wnPWrIfPY6Ww",
        "outputId": "3181f77f-aec4-47b2-a5a9-f25d8ee8d84b"
      },
      "outputs": [],
      "source": [
        "XGB2_cm = confusion_matrix(y_test, XGB2_pred)\n",
        "sns.heatmap(XGB2_cm/np.sum(XGB2_cm), annot = True, fmt = '0.2%', cmap = 'Blues')\n",
        "plt.title(\"XGBoost Confusion Matrix\")"
      ]
    },
    {
      "cell_type": "markdown",
      "metadata": {
        "id": "-nhh3mGAT9VJ"
      },
      "source": [
        "#Comparing Models -- Second Iteration:"
      ]
    },
    {
      "cell_type": "code",
      "execution_count": null,
      "metadata": {
        "id": "eer-riIoaRSh"
      },
      "outputs": [],
      "source": [
        "models2 = pd.DataFrame({\n",
        "    'Model':['Logistic Regression', 'KNN Regression', 'Decision Tree', 'Random Forest', 'Support Vector', 'XGBoost'],\n",
        "    'Accuracy' :[LogReg2_acc, KNN2_acc, DecTree2_acc, RFTree2_acc, SVM2_acc, XGB2_acc],\n",
        "    'Precision' :[LogReg2_precision, KNN2_precision, DecTree2_precision, RFTree2_precision, SVM2_precision, XGB2_precision],\n",
        "    'Recall' :[LogReg2_recall, KNN2_recall, DecTree2_recall, RFTree2_recall, SVM2_recall, XGB2_recall],\n",
        "    'F1 Score' :[LogReg2_f1, KNN2_f1, DecTree2_f1, RFTree2_f1, SVM2_f1, XGB2_f1]\n",
        "})\n",
        "models2 = models2.sort_values(by='Accuracy', ascending=False)"
      ]
    },
    {
      "cell_type": "code",
      "execution_count": null,
      "metadata": {
        "colab": {
          "base_uri": "https://localhost:8080/",
          "height": 237
        },
        "id": "Y3llo_K6KdvB",
        "outputId": "c235419e-f508-4dbb-a55f-b77b798d6987"
      },
      "outputs": [],
      "source": [
        "models2"
      ]
    },
    {
      "cell_type": "code",
      "execution_count": null,
      "metadata": {
        "colab": {
          "base_uri": "https://localhost:8080/",
          "height": 555
        },
        "id": "FpEaaUhj6EJH",
        "outputId": "ca2ada12-623f-450d-e93a-f6517d34b913"
      },
      "outputs": [],
      "source": [
        "fig = plt.figure(figsize=(15,9))\n",
        "\n",
        "ax = sns.barplot(data=models2, \n",
        "                 y='Model', \n",
        "                 x='Accuracy',\n",
        "                 palette = 'Blues_r')\n",
        "\n",
        "ax.figure.suptitle('Performance of Models -- Second Iteration',y=0.91, size = 16, color = 'black', weight='bold');\n",
        "\n",
        "plt.xlabel('Accuracy')\n",
        "plt.ylabel('Models')\n",
        "plt.axvline(x = 0.8, ymin = 0, ymax = 1,\n",
        "            linewidth = 2, linestyle =\":\",\n",
        "            color ='#cf7849');"
      ]
    },
    {
      "cell_type": "markdown",
      "metadata": {
        "id": "oDMvx6hJnNPm"
      },
      "source": [
        "#Comparing First and Second Iterations:"
      ]
    },
    {
      "cell_type": "code",
      "execution_count": null,
      "metadata": {
        "colab": {
          "base_uri": "https://localhost:8080/",
          "height": 237
        },
        "id": "3RAX4o9EnSUl",
        "outputId": "b679f585-180e-4a56-859f-1a8823bca3e9"
      },
      "outputs": [],
      "source": [
        "comp_iterations = pd.DataFrame({\n",
        "    'Model':['Logistic Regression', 'KNN Regression', 'Decision Tree', 'Random Forest', 'Support Vector', 'XGBoost'],\n",
        "    '2nd Iteration' :[LogReg2_acc, KNN2_acc, DecTree2_acc, RFTree2_acc, SVM2_acc, XGB2_acc],\n",
        "    '1st Iteration' :[LogReg_acc, KNN_acc, DecTree_acc, RFTree_acc, SVM_acc, XGB_acc],\n",
        "})\n",
        "comp_iterations"
      ]
    },
    {
      "cell_type": "code",
      "execution_count": null,
      "metadata": {
        "colab": {
          "base_uri": "https://localhost:8080/",
          "height": 490
        },
        "id": "RFZr1PW9p3Ua",
        "outputId": "cfa7caa6-5cfc-4a2b-c020-56720539f29c"
      },
      "outputs": [],
      "source": [
        "comp_iterations.plot.bar(figsize=(12,6))\n",
        "plt.xticks([0,1,2,3,4,5],['Logistic Regression', 'KNN Regression', 'Decision Tree', 'Random Forest', 'Support Vector', 'XGBoost'])\n",
        "plt.ylabel('Percentage of Accuracy') \n",
        "plt.xlabel('Model') \n",
        "plt.title('Comparison between Iterations');"
      ]
    },
    {
      "cell_type": "markdown",
      "metadata": {
        "id": "z8eO2xRvtDaL"
      },
      "source": [
        "After our second iteration of model (with hypertuning) we can see that Random Forest Classifier algortihm performed the best with the highest accuracy. We will use Random Forest and SVM to continue our model evaluation with cross validation"
      ]
    },
    {
      "cell_type": "markdown",
      "metadata": {
        "id": "hNVnm8ysxatE"
      },
      "source": [
        "#Cross Validation"
      ]
    },
    {
      "cell_type": "code",
      "execution_count": null,
      "metadata": {
        "colab": {
          "base_uri": "https://localhost:8080/"
        },
        "id": "5qWTyVmFzf0R",
        "outputId": "06941e8d-8a15-42e2-eb49-a8fe84d0cc4a"
      },
      "outputs": [],
      "source": [
        "from sklearn.model_selection import KFold\n",
        "from sklearn.model_selection import cross_val_score\n",
        "from statistics import mean, stdev\n",
        "\n",
        "cv = KFold(n_splits=10, random_state=1, shuffle=True)\n",
        "\n",
        "RFTree2_scores = cross_val_score(RFTree2, X, y, scoring='accuracy', cv=cv, n_jobs=-1)\n",
        "SVM2_scores = cross_val_score(SVM2, X, y, scoring='accuracy', cv=cv, n_jobs=-1)\n",
        "XGB2_scores = cross_val_score(XGB2, X, y, scoring='accuracy', cv=cv, n_jobs=-1)\n",
        "\n",
        "print('Accuracy of CV - Random Forest: %.4f (%.4f)' % (mean(RFTree2_scores), stdev(RFTree2_scores)))\n",
        "print('Accuracy of CV - SVM: %.4f (%.4f)' % (mean(SVM2_scores), stdev(SVM2_scores)))\n",
        "print('Accuracy of CV - XGBoost: %.4f (%.4f)' % (mean(XGB2_scores), stdev(XGB2_scores)))"
      ]
    },
    {
      "cell_type": "code",
      "execution_count": null,
      "metadata": {
        "colab": {
          "base_uri": "https://localhost:8080/",
          "height": 296
        },
        "id": "AcEpLOZy3Ef9",
        "outputId": "db160686-f716-4157-ddc7-c018f7f1da49"
      },
      "outputs": [],
      "source": [
        "from sklearn.metrics import roc_curve\n",
        "\n",
        "fpr, tpr, thresholds = roc_curve(y_test, SVM2_pred)\n",
        "\n",
        "plt.figure(figsize=(6,4))\n",
        "plt.plot(fpr, tpr, linewidth=2)\n",
        "plt.plot([0,1], [0,1], 'k--' )\n",
        "plt.rcParams['font.size'] = 12\n",
        "plt.title('ROC curve for SVM Water Quality')\n",
        "plt.xlabel('False Positive Rate')\n",
        "plt.ylabel('True Positive Rate')\n",
        "plt.show()"
      ]
    },
    {
      "cell_type": "code",
      "execution_count": null,
      "metadata": {
        "colab": {
          "base_uri": "https://localhost:8080/"
        },
        "id": "17yqCYJL3jjj",
        "outputId": "4bda358a-163a-4df5-b256-07bb1e587d53"
      },
      "outputs": [],
      "source": [
        "from sklearn.metrics import roc_auc_score\n",
        "\n",
        "ROC_AUC = roc_auc_score(y_test, SVM2_pred)\n",
        "print('ROC AUC : {:.4f}'.format(ROC_AUC))"
      ]
    },
    {
      "cell_type": "code",
      "execution_count": null,
      "metadata": {
        "colab": {
          "base_uri": "https://localhost:8080/"
        },
        "id": "syBAJ3w23we-",
        "outputId": "b3a5e6b4-2488-489e-a69a-92a95fd0098d"
      },
      "outputs": [],
      "source": [
        "Cross_validated_ROC_AUC = cross_val_score(SVM2, X_train, y_train, cv=10, scoring='roc_auc').mean()\n",
        "\n",
        "print('Cross validated ROC AUC : {:.4f}'.format(Cross_validated_ROC_AUC))"
      ]
    }
  ],
  "metadata": {
    "colab": {
      "collapsed_sections": [
        "VjDGDBDaYcmn",
        "R01d8zk7Ycmr",
        "wiIlOCVCYcmt",
        "626amNTDYcmw",
        "AvpGTalwYcmy"
      ],
      "include_colab_link": true,
      "name": "CIND820_CapstoneProject_ASAM.ipynb",
      "provenance": []
    },
    "kernelspec": {
      "display_name": "Python 3",
      "name": "python3"
    },
    "language_info": {
      "codemirror_mode": {
        "name": "ipython",
        "version": 3
      },
      "file_extension": ".py",
      "mimetype": "text/x-python",
      "name": "python",
      "nbconvert_exporter": "python",
      "pygments_lexer": "ipython3",
      "version": "3.11.3"
    }
  },
  "nbformat": 4,
  "nbformat_minor": 0
}
